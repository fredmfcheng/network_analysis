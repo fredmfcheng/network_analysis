{
 "cells": [
  {
   "cell_type": "code",
   "execution_count": 1,
   "metadata": {},
   "outputs": [],
   "source": [
    "#pip install pyvis"
   ]
  },
  {
   "cell_type": "code",
   "execution_count": 2,
   "metadata": {},
   "outputs": [],
   "source": [
    "import pandas as pd\n",
    "import networkx as nx\n",
    "\n",
    "import matplotlib.pyplot as plt\n",
    "import seaborn as sns\n",
    "sns.set(style='whitegrid', palette='muted', font_scale=1)"
   ]
  },
  {
   "cell_type": "markdown",
   "metadata": {},
   "source": [
    "## Load data"
   ]
  },
  {
   "cell_type": "code",
   "execution_count": 3,
   "metadata": {},
   "outputs": [
    {
     "data": {
      "text/html": [
       "<div>\n",
       "<style scoped>\n",
       "    .dataframe tbody tr th:only-of-type {\n",
       "        vertical-align: middle;\n",
       "    }\n",
       "\n",
       "    .dataframe tbody tr th {\n",
       "        vertical-align: top;\n",
       "    }\n",
       "\n",
       "    .dataframe thead th {\n",
       "        text-align: right;\n",
       "    }\n",
       "</style>\n",
       "<table border=\"1\" class=\"dataframe\">\n",
       "  <thead>\n",
       "    <tr style=\"text-align: right;\">\n",
       "      <th></th>\n",
       "      <th>src_syterm</th>\n",
       "      <th>src_campus</th>\n",
       "      <th>src_biz_process</th>\n",
       "      <th>src_owning_division</th>\n",
       "      <th>dst_syterm</th>\n",
       "      <th>dst_campus</th>\n",
       "      <th>dst_biz_process</th>\n",
       "      <th>dst_owning_division</th>\n",
       "      <th>process_seen</th>\n",
       "    </tr>\n",
       "  </thead>\n",
       "  <tbody>\n",
       "    <tr>\n",
       "      <th>0</th>\n",
       "      <td>star trader</td>\n",
       "      <td>hk</td>\n",
       "      <td>input trade</td>\n",
       "      <td>equities</td>\n",
       "      <td>razor</td>\n",
       "      <td>jp</td>\n",
       "      <td>send trade to market</td>\n",
       "      <td>equities</td>\n",
       "      <td>1990</td>\n",
       "    </tr>\n",
       "    <tr>\n",
       "      <th>1</th>\n",
       "      <td>bloomberg client</td>\n",
       "      <td>kr</td>\n",
       "      <td>get market data</td>\n",
       "      <td>market data</td>\n",
       "      <td>bloomberg</td>\n",
       "      <td>hk</td>\n",
       "      <td>market data connection head</td>\n",
       "      <td>market data</td>\n",
       "      <td>5000</td>\n",
       "    </tr>\n",
       "    <tr>\n",
       "      <th>2</th>\n",
       "      <td>murax</td>\n",
       "      <td>hk</td>\n",
       "      <td>input fx order</td>\n",
       "      <td>ficc</td>\n",
       "      <td>fx-pool</td>\n",
       "      <td>jp</td>\n",
       "      <td>match fx trade</td>\n",
       "      <td>ficc</td>\n",
       "      <td>563</td>\n",
       "    </tr>\n",
       "    <tr>\n",
       "      <th>3</th>\n",
       "      <td>black tunnel</td>\n",
       "      <td>hk</td>\n",
       "      <td>input black pool order</td>\n",
       "      <td>equities</td>\n",
       "      <td>black pool</td>\n",
       "      <td>sg</td>\n",
       "      <td>black pool trade matching</td>\n",
       "      <td>equities</td>\n",
       "      <td>32324</td>\n",
       "    </tr>\n",
       "    <tr>\n",
       "      <th>4</th>\n",
       "      <td>black tunnel</td>\n",
       "      <td>sg</td>\n",
       "      <td>input black pool order</td>\n",
       "      <td>equities</td>\n",
       "      <td>black pool</td>\n",
       "      <td>sg</td>\n",
       "      <td>black pool trade matching</td>\n",
       "      <td>equities</td>\n",
       "      <td>996</td>\n",
       "    </tr>\n",
       "    <tr>\n",
       "      <th>5</th>\n",
       "      <td>black tunnel</td>\n",
       "      <td>jp</td>\n",
       "      <td>input black pool order</td>\n",
       "      <td>equities</td>\n",
       "      <td>black pool</td>\n",
       "      <td>sg</td>\n",
       "      <td>black pool trade matching</td>\n",
       "      <td>equities</td>\n",
       "      <td>4555</td>\n",
       "    </tr>\n",
       "    <tr>\n",
       "      <th>6</th>\n",
       "      <td>black tunnel</td>\n",
       "      <td>kr</td>\n",
       "      <td>input black pool order</td>\n",
       "      <td>equities</td>\n",
       "      <td>black pool</td>\n",
       "      <td>sg</td>\n",
       "      <td>black pool trade matching</td>\n",
       "      <td>equities</td>\n",
       "      <td>2323</td>\n",
       "    </tr>\n",
       "    <tr>\n",
       "      <th>7</th>\n",
       "      <td>black tunnel</td>\n",
       "      <td>kr</td>\n",
       "      <td>input black pool order</td>\n",
       "      <td>equities</td>\n",
       "      <td>black pool</td>\n",
       "      <td>sg</td>\n",
       "      <td>black pool trade matching</td>\n",
       "      <td>equities</td>\n",
       "      <td>1500</td>\n",
       "    </tr>\n",
       "    <tr>\n",
       "      <th>8</th>\n",
       "      <td>Market AnalyticsX Client</td>\n",
       "      <td>sg</td>\n",
       "      <td>query market data</td>\n",
       "      <td>market data</td>\n",
       "      <td>Market AnalyticsX</td>\n",
       "      <td>hk</td>\n",
       "      <td>market data connection head</td>\n",
       "      <td>market data</td>\n",
       "      <td>111</td>\n",
       "    </tr>\n",
       "    <tr>\n",
       "      <th>9</th>\n",
       "      <td>Market AnalyticsX Client</td>\n",
       "      <td>hk</td>\n",
       "      <td>query market data</td>\n",
       "      <td>market data</td>\n",
       "      <td>Market AnalyticsX</td>\n",
       "      <td>hk</td>\n",
       "      <td>market data connection head</td>\n",
       "      <td>market data</td>\n",
       "      <td>10000</td>\n",
       "    </tr>\n",
       "    <tr>\n",
       "      <th>10</th>\n",
       "      <td>Market AnalyticsX Client</td>\n",
       "      <td>kr</td>\n",
       "      <td>query market data</td>\n",
       "      <td>market data</td>\n",
       "      <td>Market AnalyticsX</td>\n",
       "      <td>hk</td>\n",
       "      <td>market data connection head</td>\n",
       "      <td>market data</td>\n",
       "      <td>333</td>\n",
       "    </tr>\n",
       "    <tr>\n",
       "      <th>11</th>\n",
       "      <td>Market AnalyticsX Client</td>\n",
       "      <td>jp</td>\n",
       "      <td>query market data</td>\n",
       "      <td>market data</td>\n",
       "      <td>Market AnalyticsX</td>\n",
       "      <td>hk</td>\n",
       "      <td>market data connection head</td>\n",
       "      <td>market data</td>\n",
       "      <td>3311</td>\n",
       "    </tr>\n",
       "    <tr>\n",
       "      <th>12</th>\n",
       "      <td>Market AnalyticsX Client</td>\n",
       "      <td>au</td>\n",
       "      <td>query market data</td>\n",
       "      <td>market data</td>\n",
       "      <td>Market AnalyticsX</td>\n",
       "      <td>hk</td>\n",
       "      <td>market data connection head</td>\n",
       "      <td>market data</td>\n",
       "      <td>32</td>\n",
       "    </tr>\n",
       "    <tr>\n",
       "      <th>13</th>\n",
       "      <td>Market AnalyticsX Client</td>\n",
       "      <td>de</td>\n",
       "      <td>query market data</td>\n",
       "      <td>market data</td>\n",
       "      <td>Market AnalyticsX</td>\n",
       "      <td>uk</td>\n",
       "      <td>market data connection head</td>\n",
       "      <td>market data</td>\n",
       "      <td>233</td>\n",
       "    </tr>\n",
       "    <tr>\n",
       "      <th>14</th>\n",
       "      <td>Market AnalyticsX Client</td>\n",
       "      <td>uk</td>\n",
       "      <td>query market data</td>\n",
       "      <td>market data</td>\n",
       "      <td>Market AnalyticsX</td>\n",
       "      <td>uk</td>\n",
       "      <td>market data connection head</td>\n",
       "      <td>market data</td>\n",
       "      <td>8889</td>\n",
       "    </tr>\n",
       "  </tbody>\n",
       "</table>\n",
       "</div>"
      ],
      "text/plain": [
       "                  src_syterm src_campus         src_biz_process  \\\n",
       "0                star trader         hk             input trade   \n",
       "1           bloomberg client         kr         get market data   \n",
       "2                      murax         hk          input fx order   \n",
       "3               black tunnel         hk  input black pool order   \n",
       "4               black tunnel         sg  input black pool order   \n",
       "5               black tunnel         jp  input black pool order   \n",
       "6               black tunnel         kr  input black pool order   \n",
       "7               black tunnel         kr  input black pool order   \n",
       "8   Market AnalyticsX Client         sg       query market data   \n",
       "9   Market AnalyticsX Client         hk       query market data   \n",
       "10  Market AnalyticsX Client         kr       query market data   \n",
       "11  Market AnalyticsX Client         jp       query market data   \n",
       "12  Market AnalyticsX Client         au       query market data   \n",
       "13  Market AnalyticsX Client         de       query market data   \n",
       "14  Market AnalyticsX Client         uk       query market data   \n",
       "\n",
       "   src_owning_division         dst_syterm dst_campus  \\\n",
       "0             equities              razor         jp   \n",
       "1          market data          bloomberg         hk   \n",
       "2                 ficc            fx-pool         jp   \n",
       "3             equities         black pool         sg   \n",
       "4             equities         black pool         sg   \n",
       "5             equities         black pool         sg   \n",
       "6             equities         black pool         sg   \n",
       "7             equities         black pool         sg   \n",
       "8          market data  Market AnalyticsX         hk   \n",
       "9          market data  Market AnalyticsX         hk   \n",
       "10         market data  Market AnalyticsX         hk   \n",
       "11         market data  Market AnalyticsX         hk   \n",
       "12         market data  Market AnalyticsX         hk   \n",
       "13         market data  Market AnalyticsX         uk   \n",
       "14         market data  Market AnalyticsX         uk   \n",
       "\n",
       "                dst_biz_process dst_owning_division  process_seen  \n",
       "0          send trade to market            equities          1990  \n",
       "1   market data connection head         market data          5000  \n",
       "2                match fx trade                ficc           563  \n",
       "3     black pool trade matching            equities         32324  \n",
       "4     black pool trade matching            equities           996  \n",
       "5     black pool trade matching            equities          4555  \n",
       "6     black pool trade matching            equities          2323  \n",
       "7     black pool trade matching            equities          1500  \n",
       "8   market data connection head         market data           111  \n",
       "9   market data connection head         market data         10000  \n",
       "10  market data connection head         market data           333  \n",
       "11  market data connection head         market data          3311  \n",
       "12  market data connection head         market data            32  \n",
       "13  market data connection head         market data           233  \n",
       "14  market data connection head         market data          8889  "
      ]
     },
     "execution_count": 3,
     "metadata": {},
     "output_type": "execute_result"
    }
   ],
   "source": [
    "df = pd.read_excel(\"/Users/fredcheng/Desktop/network_analysis/data1.xlsx\")\n",
    "df"
   ]
  },
  {
   "cell_type": "code",
   "execution_count": 4,
   "metadata": {},
   "outputs": [],
   "source": [
    "df['src_sys+campus'] = df['src_syterm']+' ['+ df['src_campus']+']'\n",
    "df['dst_sys+campus'] = df['dst_syterm']+' ['+ df['dst_campus']+']'"
   ]
  },
  {
   "cell_type": "code",
   "execution_count": 5,
   "metadata": {},
   "outputs": [
    {
     "data": {
      "text/html": [
       "<div>\n",
       "<style scoped>\n",
       "    .dataframe tbody tr th:only-of-type {\n",
       "        vertical-align: middle;\n",
       "    }\n",
       "\n",
       "    .dataframe tbody tr th {\n",
       "        vertical-align: top;\n",
       "    }\n",
       "\n",
       "    .dataframe thead th {\n",
       "        text-align: right;\n",
       "    }\n",
       "</style>\n",
       "<table border=\"1\" class=\"dataframe\">\n",
       "  <thead>\n",
       "    <tr style=\"text-align: right;\">\n",
       "      <th></th>\n",
       "      <th>src_syterm</th>\n",
       "      <th>src_campus</th>\n",
       "      <th>src_biz_process</th>\n",
       "      <th>src_owning_division</th>\n",
       "      <th>dst_syterm</th>\n",
       "      <th>dst_campus</th>\n",
       "      <th>dst_biz_process</th>\n",
       "      <th>dst_owning_division</th>\n",
       "      <th>process_seen</th>\n",
       "      <th>src_sys+campus</th>\n",
       "      <th>dst_sys+campus</th>\n",
       "    </tr>\n",
       "  </thead>\n",
       "  <tbody>\n",
       "    <tr>\n",
       "      <th>0</th>\n",
       "      <td>star trader</td>\n",
       "      <td>hk</td>\n",
       "      <td>input trade</td>\n",
       "      <td>equities</td>\n",
       "      <td>razor</td>\n",
       "      <td>jp</td>\n",
       "      <td>send trade to market</td>\n",
       "      <td>equities</td>\n",
       "      <td>1990</td>\n",
       "      <td>star trader [hk]</td>\n",
       "      <td>razor [jp]</td>\n",
       "    </tr>\n",
       "    <tr>\n",
       "      <th>1</th>\n",
       "      <td>bloomberg client</td>\n",
       "      <td>kr</td>\n",
       "      <td>get market data</td>\n",
       "      <td>market data</td>\n",
       "      <td>bloomberg</td>\n",
       "      <td>hk</td>\n",
       "      <td>market data connection head</td>\n",
       "      <td>market data</td>\n",
       "      <td>5000</td>\n",
       "      <td>bloomberg client [kr]</td>\n",
       "      <td>bloomberg [hk]</td>\n",
       "    </tr>\n",
       "  </tbody>\n",
       "</table>\n",
       "</div>"
      ],
      "text/plain": [
       "         src_syterm src_campus  src_biz_process src_owning_division  \\\n",
       "0       star trader         hk      input trade            equities   \n",
       "1  bloomberg client         kr  get market data         market data   \n",
       "\n",
       "  dst_syterm dst_campus              dst_biz_process dst_owning_division  \\\n",
       "0      razor         jp         send trade to market            equities   \n",
       "1  bloomberg         hk  market data connection head         market data   \n",
       "\n",
       "   process_seen         src_sys+campus  dst_sys+campus  \n",
       "0          1990       star trader [hk]      razor [jp]  \n",
       "1          5000  bloomberg client [kr]  bloomberg [hk]  "
      ]
     },
     "execution_count": 5,
     "metadata": {},
     "output_type": "execute_result"
    }
   ],
   "source": [
    "df.head(2)"
   ]
  },
  {
   "cell_type": "markdown",
   "metadata": {},
   "source": [
    "## Create the graph"
   ]
  },
  {
   "cell_type": "code",
   "execution_count": 6,
   "metadata": {},
   "outputs": [
    {
     "name": "stdout",
     "output_type": "stream",
     "text": [
      "No of unique system: 20\n",
      "No of lineage: 14\n"
     ]
    }
   ],
   "source": [
    "G = nx.from_pandas_edgelist(df,\n",
    "                            source='src_sys+campus',\n",
    "                            target='dst_sys+campus',\n",
    "                            edge_attr='process_seen',\n",
    "                            create_using=nx.DiGraph())\n",
    "\n",
    "print(\"No of unique system:\", len(G.nodes))\n",
    "print(\"No of lineage:\", len(G.edges))"
   ]
  },
  {
   "cell_type": "markdown",
   "metadata": {},
   "source": [
    "## Prepare colours by campus location"
   ]
  },
  {
   "cell_type": "code",
   "execution_count": 7,
   "metadata": {},
   "outputs": [
    {
     "data": {
      "text/plain": [
       "['hk', 'kr', 'sg', 'jp', 'au', 'de', 'uk']"
      ]
     },
     "execution_count": 7,
     "metadata": {},
     "output_type": "execute_result"
    }
   ],
   "source": [
    "campus_list = df['src_campus'].tolist() + df['dst_campus'].tolist()\n",
    "campus_list = list(dict.fromkeys(campus_list))   \n",
    "campus_list"
   ]
  },
  {
   "cell_type": "code",
   "execution_count": 8,
   "metadata": {},
   "outputs": [],
   "source": [
    "def campus_colour(campus):\n",
    "    if campus == \"hk\": return \"#40E0D0\"\n",
    "    elif campus == \"kr\": return \"#FF7F50\"\n",
    "    elif campus == \"sg\": return \"#FFBF00\"\n",
    "    elif campus == \"jp\": return \"#DE3163\"\n",
    "    elif campus == \"au\": return \"#DFFF00\"\n",
    "    elif campus == \"de\": return \"#CCCCFF\"\n",
    "    else: return \"#6495ED\" # for 'uk'"
   ]
  },
  {
   "cell_type": "code",
   "execution_count": 9,
   "metadata": {},
   "outputs": [
    {
     "data": {
      "text/plain": [
       "['star trader',\n",
       " 'hk',\n",
       " 'input trade',\n",
       " 'equities',\n",
       " 'razor',\n",
       " 'jp',\n",
       " 'send trade to market',\n",
       " 'equities',\n",
       " 1990,\n",
       " 'star trader [hk]',\n",
       " 'razor [jp]']"
      ]
     },
     "execution_count": 9,
     "metadata": {},
     "output_type": "execute_result"
    }
   ],
   "source": [
    "connection_list = df.values.tolist()\n",
    "connection_list[0]"
   ]
  },
  {
   "cell_type": "markdown",
   "metadata": {},
   "source": [
    "## Create the graph"
   ]
  },
  {
   "cell_type": "code",
   "execution_count": 10,
   "metadata": {},
   "outputs": [
    {
     "data": {
      "text/html": [
       "\n",
       "        <iframe\n",
       "            width=\"75%\"\n",
       "            height=\"1500px\"\n",
       "            src=\"lineage.html\"\n",
       "            frameborder=\"0\"\n",
       "            allowfullscreen\n",
       "        ></iframe>\n",
       "        "
      ],
      "text/plain": [
       "<IPython.lib.display.IFrame at 0x7f9788786730>"
      ]
     },
     "execution_count": 10,
     "metadata": {},
     "output_type": "execute_result"
    }
   ],
   "source": [
    "from pyvis.network  import Network\n",
    "\n",
    "net1 = Network(notebook=True, width=\"75%\", height=\"1500px\", directed=True, bgcolor=\"#222222\", font_color=\"white\")\n",
    "\n",
    "for edge in connection_list:\n",
    "    net1.add_node(edge[-2], \n",
    "                  title= \"Campus: {src_campus} | Division: {src_division} | Process: {src_process}\".format(src_campus=edge[1], src_division=edge[3], src_process=edge[2]),\n",
    "                  color=campus_colour(edge[1]))\n",
    "    net1.add_node(edge[-1], \n",
    "                  title= \"Campus: {dst_campus} | Division: {dst_division} | Process: {dst_process}\".format(dst_campus=edge[5], dst_division=edge[7], dst_process=edge[6]),\n",
    "                  color=campus_colour(edge[5]))\n",
    "    net1.add_edge(edge[-2], edge[-1], value=edge[-3])\n",
    "    \n",
    "net1.show_buttons(filter_=[\"physics\"])\n",
    "\n",
    "net1.show(\"lineage.html\")"
   ]
  },
  {
   "cell_type": "code",
   "execution_count": null,
   "metadata": {},
   "outputs": [],
   "source": []
  }
 ],
 "metadata": {
  "kernelspec": {
   "display_name": "Python 3",
   "language": "python",
   "name": "python3"
  },
  "language_info": {
   "codemirror_mode": {
    "name": "ipython",
    "version": 3
   },
   "file_extension": ".py",
   "mimetype": "text/x-python",
   "name": "python",
   "nbconvert_exporter": "python",
   "pygments_lexer": "ipython3",
   "version": "3.8.5"
  }
 },
 "nbformat": 4,
 "nbformat_minor": 4
}
